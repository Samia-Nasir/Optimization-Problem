{
 "cells": [
  {
   "cell_type": "markdown",
   "metadata": {},
   "source": [
    "# PROJECT IN MAA700 OPTIMIZATION\n",
    "# Teacher Daniel Andrèn"
   ]
  },
  {
   "cell_type": "markdown",
   "metadata": {},
   "source": [
    "## 1)State the Problem"
   ]
  },
  {
   "cell_type": "markdown",
   "metadata": {},
   "source": [
    "We consider a portfolio problem with $n$ different assets or stocks held over a time period. We denote $x_i$ the amount of asset $i$ held throughout the period at the price at the beginning of the period. We let $p_i$ denotes the relative price change of asset $i$ over the period. We know the relative price is the change in price over the period divided by its price at the beginning of the period. The overall return on the portfolio is $r = p^Tx$ (in dollars). The optimization variable is the portfolio vector $x∈R^n$. The constraint in the problem is $1^Tx = b$ which means the total budget to be invested is $b$ and it is 1. The price changes $p∈R^n$ is a random vector with known mean $\\overline{p}$ and covariance $ \\Sigma$. Therefore with portfolio $x∈R^n$ the return $r$ is a random variable with mean $p^Tx$ and variance $x^T \\Sigma x$. The choice of portfolio $x$ involves a trade-off between the mean of the return, and its variance."
   ]
  },
  {
   "cell_type": "markdown",
   "metadata": {},
   "source": [
    "The term portfoilio means collection of financial investments like assets or stocks. The portfolio return means the gain or loss that is realized by investmenting in a portfolio. The term mean return is also known as an expected return and it shows how much a stock returns over a specific time period. Variance is an important metric in the investment and it is the volatility which is a measure of risk. \n",
    "We said we want to maximize the mean return and minimize the variance; which means we want to increase the mean value of possible returns and decrease the risk. The portoflio optimization problem is QP (quadratic progem):"
   ]
  },
  {
   "cell_type": "markdown",
   "metadata": {},
   "source": [
    "$$  minimize \\ \\ \\ \\ \\  \\ \\ \\ \\ \\ \\ \\ \\ \\ \\ \\  \\ \\ \\ \\ \\ \\ \\ \\ \\ \\ \\ \\overline{p}^Tx +ux^T \\Sigma x$$\n",
    "$$  subject \\ \\ to \\ \\ \\ \\ \\  \\ \\ \\ \\ \\ \\ \\ \\ \\ \\ \\ \\ \\ \\ \\ \\ \\ 1^T\\cdot x = 1 $$\n",
    "$$    \\ \\ \\ \\ \\  \\ \\ \\ \\  \\ \\ \\ \\ \\ \\ \\ \\ \\ \\ \\ \\ \\ \\ \\ \\ \\ \\ \\ \\ x\\geq 0 $$"
   ]
  },
  {
   "cell_type": "markdown",
   "metadata": {},
   "source": [
    "where $x$, the portfolio is a variable. We want to maximize mean return and minimize the return variance where the optimization variable is the portfolio vector $x$.  In forming the the associated scalarized problem, we can (without loss of generality) take $\\lambda_1 = 1$ and $\\lambda_2 = u > 0$.\n",
    "The standard equality constrained problem is:\n",
    "$$   minimize \\ \\ \\ \\ \\ \\ \\ \\ \\ \\ \\ \\ \\ \\ \\ f(x)  $$\n",
    "$$   Subject \\ \\ to \\ \\ \\ \\ \\  \\ \\ \\ \\ \\ \\ Ax=b $$"
   ]
  },
  {
   "cell_type": "markdown",
   "metadata": {},
   "source": [
    "$$  \\ \\ \\ \\ \\  \\ \\ \\ \\ \\ \\ \\ \\ \\ \\ \\ \\ \\ \\ \\ \\ \\ Ax = b $$\n",
    "where $A  = 1^T$ which is an array and $b = 1$\n",
    "$$  \\ \\ \\ \\ \\  \\ \\ \\ \\ \\ \\ \\ \\ \\ \\ \\ \\ \\ \\ \\ \\ \\ 1^Tx = b $$\n",
    "The total budget to b invested is $b$. The $b$ is often taken as $1$.This indicates that the total weigth cannot be over 1.\n",
    "$$  \\ \\ \\ \\ \\  \\ \\ \\ \\ \\ \\ \\ \\ \\ \\ \\ \\ \\ \\ \\ \\ \\ 1^Tx = 1 $$"
   ]
  },
  {
   "cell_type": "markdown",
   "metadata": {},
   "source": [
    "The constraints can be expressed as:\n",
    "$$A=\\begin{bmatrix} \n",
    "\\mathbb1 \n",
    "\\end{bmatrix},\n",
    "x=\\begin{bmatrix}\n",
    "x\\\\\n",
    "\\end{bmatrix}, \n",
    "b=\\begin{bmatrix}\n",
    "1\n",
    "\\end{bmatrix}$$\n",
    "\n"
   ]
  },
  {
   "cell_type": "markdown",
   "metadata": {},
   "source": [
    "We have three assets which means $n = 3$. The A matrix is:\n",
    "$$A=\\begin{bmatrix} \n",
    "1 & 1 &1\n",
    "\\end{bmatrix}$$"
   ]
  },
  {
   "cell_type": "markdown",
   "metadata": {},
   "source": [
    "## 2)Formulate a mathematical model of the problem"
   ]
  },
  {
   "cell_type": "markdown",
   "metadata": {},
   "source": [
    "As mentioned the problem is quadratic optimization problem with the following variables:\n",
    "\n",
    "\n",
    "$x =$ optimal portfolio vector\n",
    "\n",
    "\n",
    "$p = $  relative price change \n",
    "\n",
    "\n",
    "$\\overline{p} =$ mean return for random variable $p$\n",
    "\n",
    "\n",
    "$ \\Sigma =$ covariance  for random variable $p$\n",
    "\n",
    "\n",
    "$\\overline{p}^Tx$ = expected return for portfolio $x∈R^n$\n",
    "\n",
    "\n",
    "$x^T \\Sigma x$ = variance for portfolio $x∈R^n$\n",
    "\n",
    "\n",
    "$r = p^Tx$ = portfolio return"
   ]
  },
  {
   "cell_type": "markdown",
   "metadata": {},
   "source": [
    "## 3)Prove the model to be a convex optimization problem"
   ]
  },
  {
   "cell_type": "markdown",
   "metadata": {},
   "source": [
    "The problem is convex optimization with inequality and equality constraints and\n",
    "\n",
    "\n",
    "\n",
    "1) The objective function $f(x)$ is twice diffferentiable and quadratic.\n",
    "\n",
    "\n",
    "\n",
    "2) Hessian $H = 2u \\Sigma \\geq 0$.\n",
    "\n",
    "\n",
    "\n",
    "3) The equaltiy constraint function $1^T\\cdot x-1 = 0$ is affine."
   ]
  },
  {
   "cell_type": "markdown",
   "metadata": {},
   "source": [
    "# 4)Formulate the Lagrange dual problem"
   ]
  },
  {
   "cell_type": "markdown",
   "metadata": {},
   "source": [
    "The lagrangian dual function $g$ is the infimum of the Lagrangian over $x$\n",
    "\n",
    "$g(\\lambda,v) = infL \\left (x,\\lambda,v) = inf(f_0(x)+ \\sum_{i=1}^m\\lambda_if_i(x)+ \\sum_{i=1}^mv_ih_i(x) \\right )$\n",
    "\n",
    "\n",
    "As the dual function is the pointwise infimum of a family of affine functions of $(\\lambda,v)$, it is concave. \n",
    "\n",
    "We have inequality constraint function and $f_i(x)= -x_i, i = 1,...,n $. To form the Lagrangian we introduce multipliers $\\lambda_i$ for $n$ inequality constraints and multiplier $v_i$ for the equality constraints, and obtain\n",
    "\n",
    "$L(x,\\lambda,v) =  -\\overline{p}^Tx +ux^T \\sum x-\\sum_{i=1}^m\\lambda_ix_i+v(1^T \\cdot x-1)$\n",
    "\n",
    "We will take the derivative with respect to $x$ to solve for the minimum value with no constraints\n",
    "\n",
    "$\\bigtriangledown L(x,\\lambda,v)= 2u\\Sigma x-\\overline{p}-\\lambda+v \\cdot 1 =0 $\n",
    "\n",
    "Solve for $x$\n",
    "\n",
    "$x = \\frac {1}{2u}\\Sigma^{-1}(\\overline{p}+\\lambda-v \\cdot 1)$\n",
    "\n"
   ]
  },
  {
   "cell_type": "markdown",
   "metadata": {},
   "source": [
    "The dual function is:\n",
    "\n",
    "$g(\\lambda,v) =L (\\frac {1}{2u}\\Sigma^{-1}(\\overline{p}+\\lambda-v \\cdot 1), \\lambda ,v)$\n",
    "\n",
    "$= -\\overline{p}^T \\left(\\frac {1}{2u}\\Sigma^{-1}(\\overline{p}+\\lambda-v \\cdot 1)\\right)+u(\\frac {1}{2u}\\Sigma^{-1}(\\overline{p}+\\lambda-v \\cdot 1)^T \\Sigma \\left(\\frac {1}{2u}\\Sigma^{-1}(\\overline{p}+\\lambda-v \\cdot 1)\\right)- \\sum_{i=1}^m\\lambda_i (\\frac {1}{2u}\\Sigma^{-1}(\\overline{p}+\\lambda-v \\cdot 1))+v^T \\cdot 1 \\left(\\frac {1}{2u}\\Sigma^{-1}(\\overline{p}+\\lambda-v \\cdot 1)\\right) - v \\cdot 1$\n",
    "\n",
    "\n",
    "$= \\frac {1}{4u}(\\overline{p}+\\lambda-v \\cdot 1)^T \\Sigma^{-1}(\\overline{p}+\\lambda-v \\cdot 1)- \\frac {1}{2u}(\\overline{p}+\\lambda-v \\cdot 1)^T \\Sigma^{-1}(\\overline{p}+\\lambda-v \\cdot 1)- v \\cdot 1$\n",
    "\n",
    "$=  -\\frac {1}{4u}(\\overline{p}+\\lambda-v \\cdot 1)^T \\Sigma^{-1}(\\overline{p}+\\lambda-v \\cdot 1) - v \\cdot 1$"
   ]
  },
  {
   "cell_type": "markdown",
   "metadata": {},
   "source": [
    "The dual problem can be written as:\n",
    "\n",
    "$$ maximize \\ \\ \\ \\ \\ \\ \\ \\ \\ \\  -\\frac {1}{4u}\\left(\\overline{p}+\\lambda-v \\cdot 1 \\right)^T \\sum^{-1}\\left(\\overline{p}+\\lambda-v \\cdot 1 \\right) - v \\cdot 1$$\n",
    "\n",
    "$$   subject \\ \\ to \\ \\ \\ \\ \\  \\ \\ \\ \\ \\ \\ \\ \\ \\ \\lambda \\geq 0 $$"
   ]
  },
  {
   "cell_type": "markdown",
   "metadata": {},
   "source": [
    "## 5)Implement a method for solving the problem"
   ]
  },
  {
   "cell_type": "markdown",
   "metadata": {},
   "source": [
    "We will use interior-point methods which is to solve an optimization problem with equality and inequality constraints and our goal is to apply Newton’s method to a sequence of equality constrained problems. Therefore  we need to formulate the inequality constraint problem as an equality constraint problem after which we can use Newton’s\n",
    "method. We will start to rewrite the problem using logarithmic barrier method.\n"
   ]
  },
  {
   "cell_type": "markdown",
   "metadata": {},
   "source": [
    " $$   minimize \\ \\ \\ \\ \\ \\ \\ \\ \\ \\ \\ t f_0(x) + \\Phi(x)$$\n",
    " $$  subject \\ \\ to\\ \\ \\ \\ \\ \\ \\ \\ \\ \\ \\ 1^T  \\cdot x =1$$\n",
    " \n",
    " where\n",
    " \n",
    " \n",
    " $$\\Phi(x) = -\\sum_{i=1}^m \\log (-f_i(x))=- \\sum_{i=1}^m \\log (x))$$\n",
    " \n",
    "  $$  minimize \\ \\ \\ \\ \\ \\ f_0(x) =t(\\overline{p}^Tx +ux^T \\sum x)- \\sum_{i=1}^m \\log (x)) $$\n",
    " $$  subject\\ \\ to\\ \\ \\ \\ \\ \\ \\ \\ \\ \\ \\ \\ \\ \\ \\ \\ \\ \\ \\ \\  1^T  \\cdot x =1$$\n",
    " \n",
    " \n",
    " $$\\bigtriangledown f_0(x)=- t\\overline{p} +2tu \\sum x - \\frac {1}{x}= gradient$$\n",
    " \n",
    " $$\\bigtriangledown^2 f_0(x) = 2tu \\sum +diag\\frac {1}{x^2} = Hessian $$"
   ]
  },
  {
   "cell_type": "markdown",
   "metadata": {},
   "source": [
    "For equality constrained quadratic problem the Newton step is characterized by\n",
    "\n",
    "\n",
    "$$\\begin{bmatrix}\n",
    "\\bigtriangledown^2 f_0(x) & A^T\\\\\n",
    "A & 0\\\\\n",
    "\\end{bmatrix} \\begin{bmatrix}\n",
    "\\Delta x_n\\\\\n",
    "v\\\\\n",
    "\\end{bmatrix}=\\begin{bmatrix}\n",
    "-\\bigtriangledown f_0(x)\\\\\n",
    "0\\\\\n",
    "\\end{bmatrix}$$\n",
    "\n",
    "\n",
    "\n",
    "$$\\begin{bmatrix}\n",
    "2tu \\Sigma +diag\\frac {1}{x^2}  & 1\\\\\n",
    "1^T & 0\\\\\n",
    "\\end{bmatrix} \\begin{bmatrix}\n",
    "\\Delta x_n\\\\\n",
    "v\\\\\n",
    "\\end{bmatrix}=\\begin{bmatrix}\n",
    "-g\\\\\n",
    "0\\\\\n",
    "\\end{bmatrix}$$\n",
    "\n",
    "\n",
    "$$\\begin{bmatrix}\n",
    "H  & 1\\\\\n",
    "1^T & 0\\\\\n",
    "\\end{bmatrix} \\begin{bmatrix}\n",
    "\\Delta x_n\\\\\n",
    "v\\\\\n",
    "\\end{bmatrix}=\\begin{bmatrix}\n",
    "-g\\\\\n",
    "0\\\\\n",
    "\\end{bmatrix}$$"
   ]
  },
  {
   "cell_type": "markdown",
   "metadata": {},
   "source": [
    "we know $H$ is Hessian and $g$ is gradient in the matrix. Now we will find $ \\Delta x_n$ and $v$. The $v$ is optimal dual variable for quadratic problem. The $x + \\Delta x $ should be a good estimate of the minimizer of $f$ i.e. $x$. Since $f$ is twice differentiable, the quadratic model of $f$ will be very accurate. \n",
    "\n",
    "\n",
    "We have two equation:\n",
    "\n",
    "\n",
    "$$ H \\cdot \\Delta x_n + 1 \\cdot v = -g   $$ \n",
    "$$ 1^T \\cdot \\Delta x_n = 0  $$\n",
    "\n",
    "\n",
    "\n",
    "using $H\\cdot \\Delta x_n + 1 \\cdot v = -g  $ we will solve for $\\Delta x_n$\n",
    "\n",
    "\n",
    "$$H \\cdot \\Delta x_n + 1 \\cdot v = -g $$\n",
    "\n",
    "$$H \\cdot \\Delta x_n +  = -1 \\cdot v-g $$\n",
    "\n",
    "$$\\Delta x_n = -H^{-1}(1 \\cdot v +g)$$\n",
    "\n",
    "\n",
    "\n",
    "\n",
    "\n"
   ]
  },
  {
   "cell_type": "markdown",
   "metadata": {},
   "source": [
    "using $1^T \\cdot \\Delta x_n = 0   $ we will solve for $v$\n",
    "\n",
    "\n",
    "$$1^T \\cdot \\Delta x_n = 0  $$\n",
    "\n",
    "\n",
    "Using $\\Delta x_n = -H^{-1}(1 \\cdot v +g)$\n",
    "\n",
    "\n",
    "\n",
    "$$1^T(H^{-1}(1\\cdot v +g)) = 0$$\n",
    "\n",
    "\n",
    "$$v = \\frac {-(1 \\cdot  H^{-1} \\cdot g)}{(1^T \\cdot  H^{-1} \\cdot 1)}$$\n",
    "\n",
    "\n",
    "\n",
    "$$v = -( 1^T \\cdot H^{-1} \\cdot 1)^{-1}(1 \\cdot H^{-1} \\cdot g)$$\n",
    "\n",
    "\n",
    "We have all optimal portfolios except for the two limiting cases corresponding to $u \\rightarrow 0$ and $u \\rightarrow \\infty$. We can say in the first case we get a maximum mean return, without regard for return variance;\n",
    "in the second case we form a minimum variance return, without regard for mean\n",
    "return.\n",
    "\n"
   ]
  },
  {
   "cell_type": "markdown",
   "metadata": {},
   "source": [
    "# 6)Solve an instance of the problem"
   ]
  },
  {
   "cell_type": "code",
   "execution_count": 1,
   "metadata": {},
   "outputs": [],
   "source": [
    "import numpy as np\n",
    "import numpy.random as npr\n",
    "import math\n",
    "import pandas as pd\n",
    "import csv"
   ]
  },
  {
   "cell_type": "code",
   "execution_count": 2,
   "metadata": {},
   "outputs": [],
   "source": [
    "def lineSerach(x,f,dx,g,t0 = 1.0, alpha = .5, beta = .5):    \n",
    "    m = f(x)    \n",
    "    k = alpha*dx.T@g  \n",
    "    t = t0    \n",
    "    for i in range(20):        \n",
    "        if f(x+t*dx) > t*k+m:        \n",
    "            t *= beta        \n",
    "        else:            \n",
    "            return t    \n",
    "    else:        \n",
    "        print(\"Warning: Line search did not converge.\")        "
   ]
  },
  {
   "cell_type": "code",
   "execution_count": 3,
   "metadata": {},
   "outputs": [],
   "source": [
    "def solve(Sigma, u, p, T0 = 1, mu = 10, eps = 1.0e-5, maxiter = 1000, alpha = 5, beta = .5):\n",
    "    \"\"\" Solves \n",
    "    minimize: -p.T@x+mu*x.T@Sigma@x\n",
    "    s.t. 1.T@x = 1\n",
    "          x >= 0\n",
    "          x is the optimal variabe\"\"\"\n",
    "    n = p.size\n",
    "    A = np.ones(n)[np.newaxis]#matrix A\n",
    "    \n",
    "    def f(z, T):\n",
    "        \"\"\" Function \"\"\"\n",
    "        return T*(-p.T@z[:n]+u*z.T@Sigma@z[:n]) - np.sum(np.log(z))\n",
    "    \n",
    "    def g(z, T):\n",
    "        \"\"\" Gardient \"\"\"\n",
    "        g = -T*p\n",
    "        g += -1.0/z\n",
    "        g[:n] += 2*T*u*Sigma@z[:n]\n",
    "        return g\n",
    "    \n",
    "    def H(z,T):\n",
    "        \"\"\" Hessian \"\"\"\n",
    "        h = np.diag(1.0/z**2)\n",
    "        h[:n,:n]+= 2*T*u*Sigma\n",
    "        return h\n",
    "    \n",
    "    # choosing the starting point i.e. sum of variable equal to 1 and non-negative\n",
    "    z = np.ones(n)/n\n",
    "    T = T0\n",
    "    \n",
    "    for i in range(maxiter):\n",
    "        for j in range(maxiter):\n",
    "            gz = g(z,T)#function call variable\n",
    "            Hz = H(z,T)#function call variable\n",
    "            M = np.vstack((np.hstack((Hz,A.T)),np.hstack((A,np.zeros((1,1))))))\n",
    "            rhs = np.concatenate((-gz, np.zeros((1,))))#concatenate join a sequence of arrays along an existing axis\n",
    "            dzv = np.linalg.solve(M,rhs)#solve a linear matrix equation linalg.solve\n",
    "            dz = dzv[:n]\n",
    "            l2 = -gz.T@dz\n",
    "            if l2 < 2.0*eps:\n",
    "                print(f'l2 = {l2}')\n",
    "                break\n",
    "            t =1.0\n",
    "            \n",
    "            while(np.amin(z+t*dz)<= 0.0): t *= beta\n",
    "            t = lineSerach(z,lambda w: f(w,T),dz,gz,t,alpha = alpha, beta =beta)\n",
    "            z += t*dz\n",
    "        else:\n",
    "            print(\"Warning: Solve did not converge.\")\n",
    "            return z[:n]\n",
    "        if z.size/T < eps: return z[:n]\n",
    "        T *= mu"
   ]
  },
  {
   "cell_type": "markdown",
   "metadata": {},
   "source": [
    "# Data"
   ]
  },
  {
   "cell_type": "code",
   "execution_count": 4,
   "metadata": {},
   "outputs": [
    {
     "data": {
      "text/html": [
       "<div>\n",
       "<style scoped>\n",
       "    .dataframe tbody tr th:only-of-type {\n",
       "        vertical-align: middle;\n",
       "    }\n",
       "\n",
       "    .dataframe tbody tr th {\n",
       "        vertical-align: top;\n",
       "    }\n",
       "\n",
       "    .dataframe thead th {\n",
       "        text-align: right;\n",
       "    }\n",
       "</style>\n",
       "<table border=\"1\" class=\"dataframe\">\n",
       "  <thead>\n",
       "    <tr style=\"text-align: right;\">\n",
       "      <th></th>\n",
       "      <th>Date</th>\n",
       "      <th>abb</th>\n",
       "      <th>vol</th>\n",
       "      <th>hm</th>\n",
       "    </tr>\n",
       "  </thead>\n",
       "  <tbody>\n",
       "    <tr>\n",
       "      <td>0</td>\n",
       "      <td>Apr 01, 2020</td>\n",
       "      <td>168.4</td>\n",
       "      <td>112.85</td>\n",
       "      <td>123.1</td>\n",
       "    </tr>\n",
       "    <tr>\n",
       "      <td>1</td>\n",
       "      <td>Apr 02, 2020</td>\n",
       "      <td>170.8</td>\n",
       "      <td>114.95</td>\n",
       "      <td>115.1</td>\n",
       "    </tr>\n",
       "    <tr>\n",
       "      <td>2</td>\n",
       "      <td>Apr 03, 2020</td>\n",
       "      <td>168.8</td>\n",
       "      <td>112.10</td>\n",
       "      <td>114.0</td>\n",
       "    </tr>\n",
       "    <tr>\n",
       "      <td>3</td>\n",
       "      <td>Apr 06, 2020</td>\n",
       "      <td>176.9</td>\n",
       "      <td>121.00</td>\n",
       "      <td>126.0</td>\n",
       "    </tr>\n",
       "    <tr>\n",
       "      <td>4</td>\n",
       "      <td>Apr 07, 2020</td>\n",
       "      <td>181.9</td>\n",
       "      <td>128.50</td>\n",
       "      <td>134.9</td>\n",
       "    </tr>\n",
       "  </tbody>\n",
       "</table>\n",
       "</div>"
      ],
      "text/plain": [
       "           Date    abb     vol     hm\n",
       "0  Apr 01, 2020  168.4  112.85  123.1\n",
       "1  Apr 02, 2020  170.8  114.95  115.1\n",
       "2  Apr 03, 2020  168.8  112.10  114.0\n",
       "3  Apr 06, 2020  176.9  121.00  126.0\n",
       "4  Apr 07, 2020  181.9  128.50  134.9"
      ]
     },
     "execution_count": 4,
     "metadata": {},
     "output_type": "execute_result"
    }
   ],
   "source": [
    "data = pd.read_csv('data.csv') \n",
    "data.head()"
   ]
  },
  {
   "cell_type": "code",
   "execution_count": 5,
   "metadata": {},
   "outputs": [],
   "source": [
    "# function to calculate daily simple returns\n",
    "def getReturns(org):\n",
    "    return (org- org.shift(1))*100/org.shift(1)"
   ]
  },
  {
   "cell_type": "code",
   "execution_count": 6,
   "metadata": {},
   "outputs": [],
   "source": [
    "# function call\n",
    "data['abb-Return'] = getReturns(data['abb'])\n",
    "data['vol-Return'] = getReturns(data['vol'])\n",
    "data['hm-Return'] = getReturns(data['hm'])"
   ]
  },
  {
   "cell_type": "code",
   "execution_count": 7,
   "metadata": {},
   "outputs": [
    {
     "data": {
      "text/html": [
       "<div>\n",
       "<style scoped>\n",
       "    .dataframe tbody tr th:only-of-type {\n",
       "        vertical-align: middle;\n",
       "    }\n",
       "\n",
       "    .dataframe tbody tr th {\n",
       "        vertical-align: top;\n",
       "    }\n",
       "\n",
       "    .dataframe thead th {\n",
       "        text-align: right;\n",
       "    }\n",
       "</style>\n",
       "<table border=\"1\" class=\"dataframe\">\n",
       "  <thead>\n",
       "    <tr style=\"text-align: right;\">\n",
       "      <th></th>\n",
       "      <th>Date</th>\n",
       "      <th>abb</th>\n",
       "      <th>vol</th>\n",
       "      <th>hm</th>\n",
       "      <th>abb-Return</th>\n",
       "      <th>vol-Return</th>\n",
       "      <th>hm-Return</th>\n",
       "    </tr>\n",
       "  </thead>\n",
       "  <tbody>\n",
       "    <tr>\n",
       "      <td>1</td>\n",
       "      <td>Apr 02, 2020</td>\n",
       "      <td>170.8</td>\n",
       "      <td>114.95</td>\n",
       "      <td>115.1</td>\n",
       "      <td>1.425178</td>\n",
       "      <td>1.860877</td>\n",
       "      <td>-6.498781</td>\n",
       "    </tr>\n",
       "    <tr>\n",
       "      <td>2</td>\n",
       "      <td>Apr 03, 2020</td>\n",
       "      <td>168.8</td>\n",
       "      <td>112.10</td>\n",
       "      <td>114.0</td>\n",
       "      <td>-1.170960</td>\n",
       "      <td>-2.479339</td>\n",
       "      <td>-0.955691</td>\n",
       "    </tr>\n",
       "    <tr>\n",
       "      <td>3</td>\n",
       "      <td>Apr 06, 2020</td>\n",
       "      <td>176.9</td>\n",
       "      <td>121.00</td>\n",
       "      <td>126.0</td>\n",
       "      <td>4.798578</td>\n",
       "      <td>7.939340</td>\n",
       "      <td>10.526316</td>\n",
       "    </tr>\n",
       "    <tr>\n",
       "      <td>4</td>\n",
       "      <td>Apr 07, 2020</td>\n",
       "      <td>181.9</td>\n",
       "      <td>128.50</td>\n",
       "      <td>134.9</td>\n",
       "      <td>2.826456</td>\n",
       "      <td>6.198347</td>\n",
       "      <td>7.063492</td>\n",
       "    </tr>\n",
       "    <tr>\n",
       "      <td>5</td>\n",
       "      <td>Apr 08, 2020</td>\n",
       "      <td>178.0</td>\n",
       "      <td>126.10</td>\n",
       "      <td>137.3</td>\n",
       "      <td>-2.144035</td>\n",
       "      <td>-1.867704</td>\n",
       "      <td>1.779096</td>\n",
       "    </tr>\n",
       "  </tbody>\n",
       "</table>\n",
       "</div>"
      ],
      "text/plain": [
       "           Date    abb     vol     hm  abb-Return  vol-Return  hm-Return\n",
       "1  Apr 02, 2020  170.8  114.95  115.1    1.425178    1.860877  -6.498781\n",
       "2  Apr 03, 2020  168.8  112.10  114.0   -1.170960   -2.479339  -0.955691\n",
       "3  Apr 06, 2020  176.9  121.00  126.0    4.798578    7.939340  10.526316\n",
       "4  Apr 07, 2020  181.9  128.50  134.9    2.826456    6.198347   7.063492\n",
       "5  Apr 08, 2020  178.0  126.10  137.3   -2.144035   -1.867704   1.779096"
      ]
     },
     "execution_count": 7,
     "metadata": {},
     "output_type": "execute_result"
    }
   ],
   "source": [
    "data.dropna(inplace=True)\n",
    "data.head()"
   ]
  },
  {
   "cell_type": "code",
   "execution_count": 8,
   "metadata": {},
   "outputs": [],
   "source": [
    "# calculation of mean\n",
    "p_abb=np.mean(data['abb-Return'])\n",
    "p_vol=np.mean(data['vol-Return'])\n",
    "p_hm=np.mean(data['hm-Return'])"
   ]
  },
  {
   "cell_type": "markdown",
   "metadata": {},
   "source": [
    "# Portfolio"
   ]
  },
  {
   "cell_type": "code",
   "execution_count": 9,
   "metadata": {},
   "outputs": [
    {
     "data": {
      "text/plain": [
       "array([0.16455035, 0.27574645, 0.22412727])"
      ]
     },
     "execution_count": 9,
     "metadata": {},
     "output_type": "execute_result"
    }
   ],
   "source": [
    "# Mean return of Portfolio\n",
    "p = np.array([p_abb, p_vol, p_hm])\n",
    "p"
   ]
  },
  {
   "cell_type": "code",
   "execution_count": 10,
   "metadata": {},
   "outputs": [
    {
     "data": {
      "text/plain": [
       "3"
      ]
     },
     "execution_count": 10,
     "metadata": {},
     "output_type": "execute_result"
    }
   ],
   "source": [
    "#Size of Portfolio\n",
    "n = np.size(p)\n",
    "n"
   ]
  },
  {
   "cell_type": "code",
   "execution_count": 11,
   "metadata": {},
   "outputs": [],
   "source": [
    "s_ABB = data['abb-Return']\n",
    "s_vol = data['vol-Return']\n",
    "s_hm = data['hm-Return']"
   ]
  },
  {
   "cell_type": "markdown",
   "metadata": {},
   "source": [
    "# Covarinace Matrix of Portfolio"
   ]
  },
  {
   "cell_type": "code",
   "execution_count": 12,
   "metadata": {},
   "outputs": [],
   "source": [
    "# computer portfolio covariance matrix\n",
    "po = np.array([s_ABB, s_vol, s_hm])"
   ]
  },
  {
   "cell_type": "markdown",
   "metadata": {},
   "source": [
    "We have n=3 so the Sigma which is the covariance of portfolio assets will be:\n",
    "\n",
    "$$Sigma=\\begin{bmatrix}\\mathbb \\sigma_{11} & \\sigma_{12} & \\sigma_{13}\\\\\n",
    "\\sigma_{21} & \\sigma_{22} & \\sigma_{23}\\\\\n",
    "\\sigma_{31} & \\sigma_{32} & \\sigma_{33}\\\\\n",
    "\\end{bmatrix}$$"
   ]
  },
  {
   "cell_type": "code",
   "execution_count": 13,
   "metadata": {},
   "outputs": [
    {
     "name": "stdout",
     "output_type": "stream",
     "text": [
      "[[ 8.53158581 10.63909276  3.85896829]\n",
      " [10.63909276 22.56998771  8.07761763]\n",
      " [ 3.85896829  8.07761763 26.5198713 ]]\n"
     ]
    }
   ],
   "source": [
    "Sigma= np.cov(po, bias =True)\n",
    "print(Sigma)"
   ]
  },
  {
   "cell_type": "markdown",
   "metadata": {},
   "source": [
    "$$Sigma=\\begin{bmatrix} \n",
    "8.53158581 & 10.63909276 & 3.85896829\\\\\n",
    "10.63909276 & 22.56998771 & 8.53158581\\\\\n",
    "3.85896829 & 8.53158581 &26.5198713\\\\\n",
    "\\end{bmatrix}$$"
   ]
  },
  {
   "cell_type": "markdown",
   "metadata": {},
   "source": [
    "# Output"
   ]
  },
  {
   "cell_type": "code",
   "execution_count": 14,
   "metadata": {},
   "outputs": [
    {
     "name": "stdout",
     "output_type": "stream",
     "text": [
      "l2 = 6.754693144768887e-06\n",
      "l2 = 6.217568701012482e-06\n",
      "l2 = 1.8140573088611383e-05\n",
      "l2 = 2.058854582759307e-07\n",
      "l2 = 1.781590812305594e-05\n",
      "l2 = 1.3789308650727633e-16\n",
      "l2 = 5.499062211117865e-15\n"
     ]
    }
   ],
   "source": [
    "u = 0.01\n",
    "xsol = solve(Sigma, u, p, T0 = 1, mu = 10, eps = 1.0e-5, maxiter = 1000, alpha = .5, beta = .5)"
   ]
  },
  {
   "cell_type": "code",
   "execution_count": 15,
   "metadata": {},
   "outputs": [
    {
     "data": {
      "text/plain": [
       "array([0.44674595, 0.29619867, 0.25705538])"
      ]
     },
     "execution_count": 15,
     "metadata": {},
     "output_type": "execute_result"
    }
   ],
   "source": [
    "xsol"
   ]
  },
  {
   "cell_type": "code",
   "execution_count": 16,
   "metadata": {},
   "outputs": [
    {
     "name": "stdout",
     "output_type": "stream",
     "text": [
      "l2 = 1.0696950753275371e-05\n",
      "l2 = 1.2929777102419805e-05\n",
      "l2 = 8.807408828756871e-06\n",
      "l2 = 1.7346782078730148e-06\n",
      "l2 = 7.236679115218796e-08\n",
      "l2 = 1.744669417096112e-08\n",
      "l2 = -3.698150314262018e-07\n"
     ]
    }
   ],
   "source": [
    "u = 0.000001\n",
    "xsol = solve(Sigma, u, p, T0 = 1, mu = 10, eps = 1.0e-5, maxiter = 1000, alpha = .5, beta = .5)"
   ]
  },
  {
   "cell_type": "code",
   "execution_count": 17,
   "metadata": {},
   "outputs": [
    {
     "data": {
      "text/plain": [
       "array([8.99405929e-06, 9.99971625e-01, 1.93811780e-05])"
      ]
     },
     "execution_count": 17,
     "metadata": {},
     "output_type": "execute_result"
    }
   ],
   "source": [
    "xsol"
   ]
  },
  {
   "cell_type": "code",
   "execution_count": 18,
   "metadata": {},
   "outputs": [
    {
     "name": "stdout",
     "output_type": "stream",
     "text": [
      "l2 = 7.308173793790806e-09\n",
      "l2 = 6.507654652453771e-07\n",
      "l2 = 5.695557237379292e-08\n",
      "l2 = 1.2547002607223858e-08\n",
      "l2 = 9.943897533836582e-09\n",
      "l2 = -9.805662011611862e-09\n",
      "l2 = -1.5319938551068915e-07\n"
     ]
    }
   ],
   "source": [
    "u = 100\n",
    "xsol = solve(Sigma, u, p, T0 = 1, mu = 10, eps = 1.0e-5, maxiter = 1000, alpha = .5, beta = .5)"
   ]
  },
  {
   "cell_type": "code",
   "execution_count": 19,
   "metadata": {},
   "outputs": [
    {
     "data": {
      "text/plain": [
       "array([8.29040848e-01, 2.02583411e-09, 1.70959150e-01])"
      ]
     },
     "execution_count": 19,
     "metadata": {},
     "output_type": "execute_result"
    }
   ],
   "source": [
    "xsol"
   ]
  },
  {
   "cell_type": "code",
   "execution_count": 20,
   "metadata": {},
   "outputs": [
    {
     "name": "stdout",
     "output_type": "stream",
     "text": [
      "True\n",
      "True\n"
     ]
    }
   ],
   "source": [
    "print(np.isclose(sum(xsol),1)) # Is the sum of the x-values close to 1 ?\n",
    "print(np.all(xsol>0))#Are all x-values greater than 0 ?"
   ]
  },
  {
   "cell_type": "code",
   "execution_count": null,
   "metadata": {},
   "outputs": [],
   "source": []
  }
 ],
 "metadata": {
  "kernelspec": {
   "display_name": "Python 3",
   "language": "python",
   "name": "python3"
  },
  "language_info": {
   "codemirror_mode": {
    "name": "ipython",
    "version": 3
   },
   "file_extension": ".py",
   "mimetype": "text/x-python",
   "name": "python",
   "nbconvert_exporter": "python",
   "pygments_lexer": "ipython3",
   "version": "3.7.4"
  }
 },
 "nbformat": 4,
 "nbformat_minor": 2
}
